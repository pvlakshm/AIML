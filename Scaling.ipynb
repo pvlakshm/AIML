{
 "cells": [
  {
   "cell_type": "code",
   "execution_count": 1,
   "id": "eb93096e",
   "metadata": {},
   "outputs": [],
   "source": [
    "import numpy as np\n",
    "# 1. Create data\n",
    "np.random.seed(42)\n",
    "n_samples = 200\n",
    "\n",
    "age = np.random.randint(18, 71, n_samples)              # 18–70\n",
    "income = np.random.randint(20000, 200001, n_samples)    # 20k–200k\n",
    "spend_score = np.random.randint(0, 101, n_samples)      # 0–100\n",
    "\n",
    "# Target: high spender if both income & spend_score high\n",
    "y = ((income > 100000) & (spend_score > 50)).astype(int)\n",
    "\n",
    "# Combine features\n",
    "X = np.column_stack([age, income, spend_score])"
   ]
  },
  {
   "cell_type": "code",
   "execution_count": 2,
   "id": "71ab4bf7",
   "metadata": {},
   "outputs": [],
   "source": [
    "from sklearn.model_selection import train_test_split\n",
    "# 2. Train-test split\n",
    "X_train, X_test, y_train, y_test = train_test_split(X, y, test_size=0.3, random_state=42)"
   ]
  },
  {
   "cell_type": "code",
   "execution_count": 3,
   "id": "18bf1521",
   "metadata": {},
   "outputs": [],
   "source": [
    "from sklearn.neighbors import KNeighborsClassifier\n",
    "from sklearn.metrics import accuracy_score\n",
    "# 3. KNN without scaling\n",
    "knn_no_scale = KNeighborsClassifier(n_neighbors=5)\n",
    "knn_no_scale.fit(X_train, y_train)\n",
    "acc_no_scale = accuracy_score(y_test, knn_no_scale.predict(X_test))"
   ]
  },
  {
   "cell_type": "code",
   "execution_count": 4,
   "id": "6776dfa5",
   "metadata": {},
   "outputs": [],
   "source": [
    "from sklearn.preprocessing import StandardScaler\n",
    "# 4. KNN with scaling\n",
    "scaler = StandardScaler()\n",
    "X_train_scaled = scaler.fit_transform(X_train)\n",
    "X_test_scaled = scaler.transform(X_test)\n",
    "\n",
    "knn_scaled = KNeighborsClassifier(n_neighbors=5)\n",
    "knn_scaled.fit(X_train_scaled, y_train)\n",
    "acc_scaled = accuracy_score(y_test, knn_scaled.predict(X_test_scaled))"
   ]
  },
  {
   "cell_type": "code",
   "execution_count": 5,
   "id": "f4b32b8b",
   "metadata": {},
   "outputs": [
    {
     "name": "stdout",
     "output_type": "stream",
     "text": [
      "Accuracy without scaling: 0.82\n",
      "Accuracy with scaling: 0.97\n"
     ]
    }
   ],
   "source": [
    "print(f\"Accuracy without scaling: {acc_no_scale:.2f}\")\n",
    "print(f\"Accuracy with scaling: {acc_scaled:.2f}\")"
   ]
  }
 ],
 "metadata": {
  "kernelspec": {
   "display_name": "Python 3",
   "language": "python",
   "name": "python3"
  },
  "language_info": {
   "codemirror_mode": {
    "name": "ipython",
    "version": 3
   },
   "file_extension": ".py",
   "mimetype": "text/x-python",
   "name": "python",
   "nbconvert_exporter": "python",
   "pygments_lexer": "ipython3",
   "version": "3.13.5"
  }
 },
 "nbformat": 4,
 "nbformat_minor": 5
}
