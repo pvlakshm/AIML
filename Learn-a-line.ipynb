{
  "nbformat": 4,
  "nbformat_minor": 0,
  "metadata": {
    "colab": {
      "provenance": [],
      "authorship_tag": "ABX9TyNSDL0UUnPDnh0kB820Zfu8",
      "include_colab_link": true
    },
    "kernelspec": {
      "name": "python3",
      "display_name": "Python 3"
    },
    "language_info": {
      "name": "python"
    }
  },
  "cells": [
    {
      "cell_type": "markdown",
      "metadata": {
        "id": "view-in-github",
        "colab_type": "text"
      },
      "source": [
        "<a href=\"https://colab.research.google.com/github/pvlakshm/AIML/blob/main/Learn-a-line.ipynb\" target=\"_parent\"><img src=\"https://colab.research.google.com/assets/colab-badge.svg\" alt=\"Open In Colab\"/></a>"
      ]
    },
    {
      "cell_type": "code",
      "execution_count": 7,
      "metadata": {
        "colab": {
          "base_uri": "https://localhost:8080/"
        },
        "id": "GnHbRpqL8z96",
        "outputId": "541a7022-265b-4b88-f918-c31414b01b7a"
      },
      "outputs": [
        {
          "output_type": "execute_result",
          "data": {
            "text/plain": [
              "array([[1],\n",
              "       [2],\n",
              "       [3],\n",
              "       [4],\n",
              "       [5]])"
            ]
          },
          "metadata": {},
          "execution_count": 7
        }
      ],
      "source": [
        "import numpy as np\n",
        "import matplotlib.pyplot as plt\n",
        "from sklearn.linear_model import LinearRegression\n",
        "\n",
        "# Step 1: Generate points that lie on a straight line\n",
        "# y = 3x + 5\n",
        "X = np.array([[1],\n",
        "              [2],\n",
        "              [3],\n",
        "              [4],\n",
        "              [5]])\n"
      ]
    },
    {
      "cell_type": "code",
      "source": [
        "y = 3 * X.flatten() + 5\n",
        "y\n"
      ],
      "metadata": {
        "colab": {
          "base_uri": "https://localhost:8080/"
        },
        "id": "IX2VKXj5ApF7",
        "outputId": "2d8f0e34-ad7c-4204-f713-00befbd8465a"
      },
      "execution_count": 8,
      "outputs": [
        {
          "output_type": "execute_result",
          "data": {
            "text/plain": [
              "array([ 8, 11, 14, 17, 20])"
            ]
          },
          "metadata": {},
          "execution_count": 8
        }
      ]
    },
    {
      "cell_type": "code",
      "source": [
        "# Step 2: Fit a Linear Regression model\n",
        "model = LinearRegression()\n",
        "model.fit(X, y)\n",
        "\n",
        "# Step 3: Make predictions\n",
        "X_test = np.linspace(0, 6, 10).reshape(-1, 1)\n",
        "y_pred = model.predict(X_test)\n",
        "\n",
        "# Step 4: Visualize\n",
        "plt.scatter(X, y, color='blue', label='Original data')\n",
        "#plt.plot(X_test, y_pred, color='red', label='Fitted line')\n",
        "plt.title('Linear Regression Fit')\n",
        "plt.xlabel('X')\n",
        "plt.ylabel('y')\n",
        "plt.legend()\n",
        "plt.grid(True)\n",
        "plt.show()\n",
        "\n",
        "# Step 5: Print the learned parameters\n",
        "print(f\"Learned slope (coefficient): {model.coef_[0]}\")\n",
        "print(f\"Learned intercept: {model.intercept_}\")"
      ],
      "metadata": {
        "colab": {
          "base_uri": "https://localhost:8080/",
          "height": 507
        },
        "id": "EWnJx6ALA7Df",
        "outputId": "2e169a07-a3b9-49fc-96cb-c3a61c8bdb67"
      },
      "execution_count": 9,
      "outputs": [
        {
          "output_type": "display_data",
          "data": {
            "text/plain": [
              "<Figure size 640x480 with 1 Axes>"
            ],
            "image/png": "[encoded data removed]"
          },
          "metadata": {}
        },
        {
          "output_type": "stream",
          "name": "stdout",
          "text": [
            "Learned slope (coefficient): 3.000000000000001\n",
            "Learned intercept: 4.9999999999999964\n"
          ]
        }
      ]
    }
  ]
}