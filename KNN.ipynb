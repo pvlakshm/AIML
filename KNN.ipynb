{
 "cells": [
  {
   "cell_type": "code",
   "execution_count": null,
   "id": "a13b91ab",
   "metadata": {},
   "outputs": [],
   "source": [
    "# Step 0: create the data\n",
    "import numpy as np\n",
    "# Fruit data with clear separation\n",
    "X = np.array([[130, 0], [131, 0], [132, 0], [134, 0], [136, 0],\n",
    "              [140, 0], [141, 0], [142, 0], [144, 0], [145, 0],\n",
    "              [140, 1], [141, 1], [142, 1], [144, 1], [145, 1]])\n",
    "\n",
    "# Orange (0), Pear (1), Apple (2) are the classes of fruit.\n",
    "y = np.array([0, 0, 0, 0, 0,\n",
    "              1, 1, 1, 1, 1,\n",
    "              2, 2, 2, 2, 2])"
   ]
  },
  {
   "cell_type": "code",
   "execution_count": null,
   "id": "8368c59f",
   "metadata": {},
   "outputs": [],
   "source": [
    "# Step 1: Visualize the data\n",
    "# Split data by class\n",
    "import matplotlib.pyplot as plt\n",
    "X_Orange = X[y == 0]\n",
    "X_Pear   = X[y == 1]\n",
    "X_Apple  = X[y == 2]\n",
    "\n",
    "f_names = [\"Weight (gm)\", \"Texture (0/1)\"]\n",
    "c_names = [\"Orange\", \"Pear\", \"Apple\"]\n",
    "color_names = [\"orange\", \"green\", \"red\"]\n",
    "\n",
    "# Plot\n",
    "import matplotlib.pyplot as plt\n",
    "plt.scatter(X_Orange[:, 0], X_Orange[:, 1], color = color_names[0], label = c_names[0])\n",
    "plt.scatter(X_Pear[:, 0], X_Pear[:, 1], color = color_names[1], label = c_names[1])\n",
    "plt.scatter(X_Apple[:, 0], X_Apple[:, 1], color = color_names[2], label = c_names[2])\n",
    "plt.xlabel(f_names[0])\n",
    "plt.ylabel(f_names[1])\n",
    "plt.title('3-Class Scatter Plot')\n",
    "plt.yticks([0, 1])\n",
    "plt.legend()\n",
    "plt.grid(True)\n",
    "plt.show()"
   ]
  },
  {
   "cell_type": "code",
   "execution_count": null,
   "id": "7fd45b96",
   "metadata": {},
   "outputs": [],
   "source": [
    "# Step 2: Train KNN\n",
    "from sklearn.neighbors import KNeighborsClassifier\n",
    "knn = KNeighborsClassifier(n_neighbors = 3)\n",
    "knn.fit(X, y)\n",
    "print(knn)"
   ]
  },
  {
   "cell_type": "code",
   "execution_count": null,
   "id": "0f11fa56",
   "metadata": {},
   "outputs": [],
   "source": [
    "# Step 3: Predict\n",
    "X_test = np.array([[133, 0], [143, 0], [143, 1]])\n",
    "\n",
    "y_pred = knn.predict(X_test)\n",
    "\n",
    "X_pred0 = X_test[y_pred == 0]\n",
    "X_pred1 = X_test[y_pred == 1]\n",
    "X_pred2 = X_test[y_pred == 2]"
   ]
  },
  {
   "cell_type": "code",
   "execution_count": null,
   "id": "200ae1d1",
   "metadata": {},
   "outputs": [],
   "source": [
    "# Step 4: Visualize\n",
    "#-----\n",
    "plt.scatter(X_Orange[:, 0], X_Orange[:, 1], color = color_names[0], label = c_names[0])\n",
    "plt.scatter(X_Pear[:, 0], X_Pear[:, 1], color = color_names[1], label = c_names[1])\n",
    "plt.scatter(X_Apple[:, 0], X_Apple[:, 1], color = color_names[2], label = c_names[2])\n",
    "\n",
    "plt.scatter(X_pred0[:, 0], X_pred0[:, 1], color = color_names[y_pred[0]], label = 'p-'+ c_names[y_pred[0]], edgecolors=\"black\")\n",
    "plt.scatter(X_pred1[:, 0], X_pred1[:, 1], color = color_names[y_pred[1]], label = 'p-'+ c_names[y_pred[1]], edgecolors=\"black\")\n",
    "plt.scatter(X_pred2[:, 0], X_pred2[:, 1], color = color_names[y_pred[2]], label = 'p-'+ c_names[y_pred[2]], edgecolors=\"black\")\n",
    "\n",
    "plt.xlabel(f_names[0])\n",
    "plt.ylabel(f_names[1])\n",
    "plt.title('3-Class Scatter Plot with Predictions')\n",
    "plt.yticks([0, 1])\n",
    "plt.legend()\n",
    "plt.grid(True)\n",
    "plt.show()"
   ]
  }
 ],
 "metadata": {
  "kernelspec": {
   "display_name": "Python 3",
   "language": "python",
   "name": "python3"
  },
  "language_info": {
   "codemirror_mode": {
    "name": "ipython",
    "version": 3
   },
   "file_extension": ".py",
   "mimetype": "text/x-python",
   "name": "python",
   "nbconvert_exporter": "python",
   "pygments_lexer": "ipython3",
   "version": "3.13.5"
  }
 },
 "nbformat": 4,
 "nbformat_minor": 5
}
