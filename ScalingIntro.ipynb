{
 "cells": [
  {
   "cell_type": "code",
   "execution_count": null,
   "id": "b12ab0e0",
   "metadata": {},
   "outputs": [
    {
     "name": "stdout",
     "output_type": "stream",
     "text": [
      "=== Without scaling ===\n",
      "Prediction: 1\n",
      "Neighbors' indices: [3 2 4]\n",
      "Distances: [ 5000.0049     25000.00008    55000.00130909]\n",
      "\n",
      "=== With scaling ===\n",
      "Prediction: 0\n",
      "Neighbors' indices: [2 3 1]\n",
      "Distances: [0.49790526 0.99333599 1.74073705]\n"
     ]
    }
   ],
   "source": [
    "import numpy as np\n",
    "from sklearn.preprocessing import StandardScaler\n",
    "from sklearn.neighbors import KNeighborsClassifier\n",
    "\n",
    "# --- 1) Tiny dataset with 5 points ---\n",
    "# Features: [Height (cm), Income (₹)]\n",
    "X = np.array([\n",
    "    [160, 20000],   # Class 1\n",
    "    [165, 22000],   # Class 0\n",
    "    [170, 100000],  # Class 1\n",
    "    [175, 120000],  # Class 0\n",
    "    [180, 180000],  # Class 1\n",
    "])\n",
    "y = np.array([1, 0, 1, 0, 1])\n",
    "\n",
    "# Query point to classify\n",
    "x_new = np.array([[168, 125000]])\n",
    "\n",
    "# --- 2) k-NN without scaling ---\n",
    "knn_raw = KNeighborsClassifier(n_neighbors=3)\n",
    "knn_raw.fit(X, y)\n",
    "pred_raw = knn_raw.predict(x_new)\n",
    "dist_raw, idx_raw = knn_raw.kneighbors(x_new, return_distance=True)\n",
    "\n",
    "# --- 3) k-NN with scaling ---\n",
    "scaler = StandardScaler()\n",
    "X_scaled = scaler.fit_transform(X)\n",
    "x_new_scaled = scaler.transform(x_new)\n",
    "\n",
    "knn_scaled = KNeighborsClassifier(n_neighbors=3)\n",
    "knn_scaled.fit(X_scaled, y)\n",
    "pred_scaled = knn_scaled.predict(x_new_scaled)\n",
    "dist_scaled, idx_scaled = knn_scaled.kneighbors(x_new_scaled, return_distance=True)\n",
    "\n",
    "# --- 4) Print results ---\n",
    "print(\"=== Without scaling ===\")\n",
    "print(\"Prediction:\", pred_raw[0])\n",
    "print(\"Neighbors' indices:\", idx_raw[0])\n",
    "print(\"Distances:\", dist_raw[0])\n",
    "\n",
    "print(\"\\n=== With scaling ===\")\n",
    "print(\"Prediction:\", pred_scaled[0])\n",
    "print(\"Neighbors' indices:\", idx_scaled[0])\n",
    "print(\"Distances:\", dist_scaled[0])"
   ]
  }
 ],
 "metadata": {
  "kernelspec": {
   "display_name": "Python 3",
   "language": "python",
   "name": "python3"
  },
  "language_info": {
   "codemirror_mode": {
    "name": "ipython",
    "version": 3
   },
   "file_extension": ".py",
   "mimetype": "text/x-python",
   "name": "python",
   "nbconvert_exporter": "python",
   "pygments_lexer": "ipython3",
   "version": "3.13.5"
  }
 },
 "nbformat": 4,
 "nbformat_minor": 5
}
